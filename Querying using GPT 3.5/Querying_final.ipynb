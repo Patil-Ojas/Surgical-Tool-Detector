{
  "cells": [
    {
      "cell_type": "markdown",
      "metadata": {
        "id": "J5mlog0N3IX4"
      },
      "source": [
        "# **STRYKER HACKATHON**\n",
        "### Problem Statement 03 - Surgical Tool Segmentation\n",
        "\n",
        "> Ojas Patil (21BAI1106)\n",
        "\n",
        "> Garvita Kesarwani (21BCE1086)\n"
      ]
    },
    {
      "cell_type": "markdown",
      "metadata": {
        "id": "XAqyb5gTsoW7"
      },
      "source": [
        "## Installing required Dependencies"
      ]
    },
    {
      "cell_type": "code",
      "execution_count": 21,
      "metadata": {
        "id": "2uEw_YT638pI"
      },
      "outputs": [],
      "source": [
        "!pip install langchain-experimental >/dev/null 2>&1"
      ]
    },
    {
      "cell_type": "code",
      "execution_count": 22,
      "metadata": {
        "id": "915qAj5N5hhj"
      },
      "outputs": [],
      "source": [
        "!pip install openai >/dev/null 2>&1"
      ]
    },
    {
      "cell_type": "markdown",
      "metadata": {
        "id": "GGsG_4KP5_0A"
      },
      "source": [
        "## API Key"
      ]
    },
    {
      "cell_type": "code",
      "execution_count": 23,
      "metadata": {
        "id": "33harqUu4bjT"
      },
      "outputs": [],
      "source": [
        "openai_api_key = \"sk-sike\""
      ]
    },
    {
      "cell_type": "markdown",
      "metadata": {
        "id": "wP6Sa5jZ6BA5"
      },
      "source": [
        "## Using an LLM to directly answer questions based on our Data"
      ]
    },
    {
      "cell_type": "code",
      "execution_count": 17,
      "metadata": {
        "id": "0EjejNCE3X2X"
      },
      "outputs": [],
      "source": [
        "from langchain.llms import OpenAI\n",
        "from langchain.agents.agent_types import AgentType\n",
        "from langchain_experimental.agents.agent_toolkits import create_csv_agent\n",
        "import pandas as pd\n",
        "\n",
        "agent = create_csv_agent(\n",
        "    llm=OpenAI(openai_api_key=openai_api_key, temperature=0),\n",
        "    path=r\"/content/random_data.csv\",\n",
        "    verbose=True,\n",
        "    agent_type=AgentType.ZERO_SHOT_REACT_DESCRIPTION\n",
        ")"
      ]
    },
    {
      "cell_type": "markdown",
      "metadata": {
        "id": "K_MUfypHtRqs"
      },
      "source": [
        "#### Query 1"
      ]
    },
    {
      "cell_type": "code",
      "execution_count": 25,
      "metadata": {
        "colab": {
          "base_uri": "https://localhost:8080/",
          "height": 229
        },
        "id": "UVTUKvHWojaV",
        "outputId": "4119c1ae-d4aa-461c-f93d-038fccb7ea20"
      },
      "outputs": [
        {
          "name": "stdout",
          "output_type": "stream",
          "text": [
            "\n",
            "\n",
            "\u001b[1m> Entering new AgentExecutor chain...\u001b[0m\n",
            "\u001b[32;1m\u001b[1;3mThought: I need to filter the dataframe to only include rows where the File Name is frame9.png and the Class Name is Clamp\n",
            "Action: python_repl_ast\n",
            "Action Input: df[(df['File Name'] == 'frame9.png') & (df['Class Name'] == 'Clamp')]\u001b[0m\u001b[36;1m\u001b[1;3m    File Name Class Name  Object Number  Area   Centroid Bounding Box\n",
            "9  frame9.png      Clamp              2   156  (3, 4, 0)    (1, 5, 9)\u001b[0m\u001b[32;1m\u001b[1;3mI now know the final answer\n",
            "Final Answer: There are 2 clamps present in frame9.\u001b[0m\n",
            "\n",
            "\u001b[1m> Finished chain.\u001b[0m\n"
          ]
        },
        {
          "data": {
            "application/vnd.google.colaboratory.intrinsic+json": {
              "type": "string"
            },
            "text/plain": [
              "'There are 2 clamps present in frame9.'"
            ]
          },
          "execution_count": 25,
          "metadata": {},
          "output_type": "execute_result"
        }
      ],
      "source": [
        "agent.run(\"tell how many clamps are present only in frame9\")"
      ]
    },
    {
      "cell_type": "markdown",
      "metadata": {
        "id": "EsQxy8Y6tTSV"
      },
      "source": [
        "#### Query 2"
      ]
    },
    {
      "cell_type": "code",
      "execution_count": 19,
      "metadata": {
        "colab": {
          "base_uri": "https://localhost:8080/"
        },
        "id": "vZpbG05GonwK",
        "outputId": "1ac57d52-6acc-4748-a266-b640b7f77768"
      },
      "outputs": [
        {
          "name": "stdout",
          "output_type": "stream",
          "text": [
            "\n",
            "\n",
            "\u001b[1m> Entering new AgentExecutor chain...\u001b[0m\n",
            "\u001b[32;1m\u001b[1;3mThought: I need to filter the dataframe to only include rows where the Class Name is \"Needle\" and then count the number of rows.\n",
            "Action: python_repl_ast\n",
            "Action Input: df[df['Class Name'] == 'Needle'].count()\u001b[0m\u001b[36;1m\u001b[1;3mFile Name        4\n",
            "Class Name       4\n",
            "Object Number    4\n",
            "Area             4\n",
            "Centroid         4\n",
            "Bounding Box     4\n",
            "dtype: int64\u001b[0m\u001b[32;1m\u001b[1;3m4 rows have the Class Name \"Needle\"\n",
            "Final Answer: 4\u001b[0m\n",
            "\n",
            "\u001b[1m> Finished chain.\u001b[0m\n",
            "4\n"
          ]
        }
      ],
      "source": [
        "print(agent.run(\"In how many frames are needle present?\"))"
      ]
    },
    {
      "cell_type": "markdown",
      "metadata": {
        "id": "b2DHGrHDtVAc"
      },
      "source": [
        "#### Query 3"
      ]
    },
    {
      "cell_type": "code",
      "execution_count": 20,
      "metadata": {
        "colab": {
          "base_uri": "https://localhost:8080/"
        },
        "id": "EZIH7Da7o3ql",
        "outputId": "4aadceea-88aa-4dd8-af68-30675dc2ad23"
      },
      "outputs": [
        {
          "name": "stdout",
          "output_type": "stream",
          "text": [
            "\n",
            "\n",
            "\u001b[1m> Entering new AgentExecutor chain...\u001b[0m\n",
            "\u001b[32;1m\u001b[1;3mThought: I need to filter the dataframe to only include rows where the area is greater than 120, and then count the number of rows.\n",
            "Action: python_repl_ast\n",
            "Action Input: df[df['Area'] > 120].count()\u001b[0m\u001b[36;1m\u001b[1;3mFile Name        10\n",
            "Class Name       10\n",
            "Object Number    10\n",
            "Area             10\n",
            "Centroid         10\n",
            "Bounding Box     10\n",
            "dtype: int64\u001b[0m\u001b[32;1m\u001b[1;3m10 rows have an area greater than 120, so the final answer is 10.\n",
            "Final Answer: 10\u001b[0m\n",
            "\n",
            "\u001b[1m> Finished chain.\u001b[0m\n",
            "10\n"
          ]
        }
      ],
      "source": [
        "print(agent.run(\"In how many frames is the area greater than 120?\"))"
      ]
    }
  ],
  "metadata": {
    "colab": {
      "collapsed_sections": [
        "GGsG_4KP5_0A"
      ],
      "provenance": []
    },
    "kernelspec": {
      "display_name": "Python 3",
      "name": "python3"
    },
    "language_info": {
      "name": "python"
    }
  },
  "nbformat": 4,
  "nbformat_minor": 0
}
